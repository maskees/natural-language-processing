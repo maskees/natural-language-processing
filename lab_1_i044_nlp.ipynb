{
  "nbformat": 4,
  "nbformat_minor": 0,
  "metadata": {
    "colab": {
      "provenance": [],
      "authorship_tag": "ABX9TyPrFuK2vfr7J6aK9FrWM/tv",
      "include_colab_link": true
    },
    "kernelspec": {
      "name": "python3",
      "display_name": "Python 3"
    },
    "language_info": {
      "name": "python"
    }
  },
  "cells": [
    {
      "cell_type": "markdown",
      "metadata": {
        "id": "view-in-github",
        "colab_type": "text"
      },
      "source": [
        "<a href=\"https://colab.research.google.com/github/maskees/natural-language-processing/blob/main/lab_1_i044_nlp.ipynb\" target=\"_parent\"><img src=\"https://colab.research.google.com/assets/colab-badge.svg\" alt=\"Open In Colab\"/></a>"
      ]
    },
    {
      "cell_type": "code",
      "execution_count": null,
      "metadata": {
        "id": "UIwcoKy-9n5I"
      },
      "outputs": [],
      "source": [
        "\n",
        "import nltk\n",
        "from nltk import sent_tokenize, word_tokenize"
      ]
    },
    {
      "cell_type": "code",
      "source": [
        "\n",
        "para= \"\"\"India is the largest democratic country.\n",
        "It is a big country divided into 29 states and 7 union territories.These states and union territories have been created so that the government can run the country more easily. India also has many different kinds of physical features in different parts of the country\n",
        "that are spread over its states and union territories.India is a very diverse country as well, which means that the people around the country are different in many ways. Even though India is such a diverse place, it is united as one country.\"\"\""
      ],
      "metadata": {
        "id": "XebEXn4x9uqy"
      },
      "execution_count": null,
      "outputs": []
    },
    {
      "cell_type": "code",
      "source": [
        "sentences= sent_tokenize(para)\n",
        "print(sentences)"
      ],
      "metadata": {
        "colab": {
          "base_uri": "https://localhost:8080/"
        },
        "id": "HejD8c3B95bi",
        "outputId": "f77f4a97-1933-43be-d92a-d9971f2b2e50"
      },
      "execution_count": null,
      "outputs": [
        {
          "output_type": "stream",
          "name": "stdout",
          "text": [
            "['India is the largest democratic country.', 'It is a big country divided into 29 states and 7 union territories.These states and union territories have been created so that the government can run the country more easily.', 'India also has many different kinds of physical features in different parts of the country\\nthat are spread over its states and union territories.India is a very diverse country as well, which means that the people around the country are different in many ways.', 'Even though India is such a diverse place, it is united as one country.']\n"
          ]
        }
      ]
    },
    {
      "cell_type": "code",
      "source": [],
      "metadata": {
        "id": "7FKYe0E_-AQ5"
      },
      "execution_count": null,
      "outputs": []
    },
    {
      "cell_type": "code",
      "source": [
        "#word Tokenize\n",
        "words= word_tokenize(sentences[0])\n",
        "print(words)"
      ],
      "metadata": {
        "colab": {
          "base_uri": "https://localhost:8080/"
        },
        "id": "4lOAw0Nj-QFc",
        "outputId": "2ed0a95e-25d9-4fc0-a835-d03f14183412"
      },
      "execution_count": null,
      "outputs": [
        {
          "output_type": "stream",
          "name": "stdout",
          "text": [
            "['India', 'is', 'the', 'largest', 'democratic', 'country', '.']\n"
          ]
        }
      ]
    },
    {
      "cell_type": "code",
      "source": [
        "#Using extend\n",
        "words_token=[]\n",
        "for sent in sentences:\n",
        "    words_token.extend(word_tokenize(sent))\n",
        "print(words_token)"
      ],
      "metadata": {
        "colab": {
          "base_uri": "https://localhost:8080/"
        },
        "id": "lU8AFDp9-W-U",
        "outputId": "100c303b-3716-42dc-9ee6-160f350ed3ed"
      },
      "execution_count": null,
      "outputs": [
        {
          "output_type": "stream",
          "name": "stdout",
          "text": [
            "['India', 'is', 'the', 'largest', 'democratic', 'country', '.', 'It', 'is', 'a', 'big', 'country', 'divided', 'into', '29', 'states', 'and', '7', 'union', 'territories.These', 'states', 'and', 'union', 'territories', 'have', 'been', 'created', 'so', 'that', 'the', 'government', 'can', 'run', 'the', 'country', 'more', 'easily', '.', 'India', 'also', 'has', 'many', 'different', 'kinds', 'of', 'physical', 'features', 'in', 'different', 'parts', 'of', 'the', 'country', 'that', 'are', 'spread', 'over', 'its', 'states', 'and', 'union', 'territories.India', 'is', 'a', 'very', 'diverse', 'country', 'as', 'well', ',', 'which', 'means', 'that', 'the', 'people', 'around', 'the', 'country', 'are', 'different', 'in', 'many', 'ways', '.', 'Even', 'though', 'India', 'is', 'such', 'a', 'diverse', 'place', ',', 'it', 'is', 'united', 'as', 'one', 'country', '.']\n"
          ]
        }
      ]
    },
    {
      "cell_type": "code",
      "source": [
        "#Using append\n",
        "words_token=[]\n",
        "for sent in sentences:\n",
        "    words_token.append(word_tokenize(sent))\n",
        "print(words_token)"
      ],
      "metadata": {
        "colab": {
          "base_uri": "https://localhost:8080/"
        },
        "id": "hoM5C3EC-tVN",
        "outputId": "77256afc-687b-42a5-e882-dd4b9edda300"
      },
      "execution_count": null,
      "outputs": [
        {
          "output_type": "stream",
          "name": "stdout",
          "text": [
            "[['India', 'is', 'the', 'largest', 'democratic', 'country', '.'], ['It', 'is', 'a', 'big', 'country', 'divided', 'into', '29', 'states', 'and', '7', 'union', 'territories.These', 'states', 'and', 'union', 'territories', 'have', 'been', 'created', 'so', 'that', 'the', 'government', 'can', 'run', 'the', 'country', 'more', 'easily', '.'], ['India', 'also', 'has', 'many', 'different', 'kinds', 'of', 'physical', 'features', 'in', 'different', 'parts', 'of', 'the', 'country', 'that', 'are', 'spread', 'over', 'its', 'states', 'and', 'union', 'territories.India', 'is', 'a', 'very', 'diverse', 'country', 'as', 'well', ',', 'which', 'means', 'that', 'the', 'people', 'around', 'the', 'country', 'are', 'different', 'in', 'many', 'ways', '.'], ['Even', 'though', 'India', 'is', 'such', 'a', 'diverse', 'place', ',', 'it', 'is', 'united', 'as', 'one', 'country', '.']]\n"
          ]
        }
      ]
    },
    {
      "cell_type": "code",
      "source": [
        "print(word_tokenize(para))"
      ],
      "metadata": {
        "colab": {
          "base_uri": "https://localhost:8080/"
        },
        "id": "vczXbGDM-wPt",
        "outputId": "4bc968e4-0186-41f4-f6e5-46e61965721f"
      },
      "execution_count": null,
      "outputs": [
        {
          "output_type": "stream",
          "name": "stdout",
          "text": [
            "['India', 'is', 'the', 'largest', 'democratic', 'country', '.', 'It', 'is', 'a', 'big', 'country', 'divided', 'into', '29', 'states', 'and', '7', 'union', 'territories.These', 'states', 'and', 'union', 'territories', 'have', 'been', 'created', 'so', 'that', 'the', 'government', 'can', 'run', 'the', 'country', 'more', 'easily', '.', 'India', 'also', 'has', 'many', 'different', 'kinds', 'of', 'physical', 'features', 'in', 'different', 'parts', 'of', 'the', 'country', 'that', 'are', 'spread', 'over', 'its', 'states', 'and', 'union', 'territories.India', 'is', 'a', 'very', 'diverse', 'country', 'as', 'well', ',', 'which', 'means', 'that', 'the', 'people', 'around', 'the', 'country', 'are', 'different', 'in', 'many', 'ways', '.', 'Even', 'though', 'India', 'is', 'such', 'a', 'diverse', 'place', ',', 'it', 'is', 'united', 'as', 'one', 'country', '.']\n"
          ]
        }
      ]
    },
    {
      "cell_type": "code",
      "source": [
        "import spacy"
      ],
      "metadata": {
        "id": "3QWaPxqx-ygc"
      },
      "execution_count": null,
      "outputs": []
    },
    {
      "cell_type": "code",
      "source": [
        "sp = spacy.load('en_core_web_sm')\n",
        "sentence = sp(para)\n",
        "print(sentence)"
      ],
      "metadata": {
        "colab": {
          "base_uri": "https://localhost:8080/"
        },
        "id": "2OOL3qbb-1St",
        "outputId": "f4036a62-1ad8-4c01-f607-05beb92d88b3"
      },
      "execution_count": null,
      "outputs": [
        {
          "output_type": "stream",
          "name": "stdout",
          "text": [
            "India is the largest democratic country.\n",
            "It is a big country divided into 29 states and 7 union territories.These states and union territories have been created so that the government can run the country more easily. India also has many different kinds of physical features in different parts of the country\n",
            "that are spread over its states and union territories.India is a very diverse country as well, which means that the people around the country are different in many ways. Even though India is such a diverse place, it is united as one country.\n"
          ]
        }
      ]
    },
    {
      "cell_type": "code",
      "source": [
        "word_spacy_tokenize= []\n",
        "\n",
        "for word in sentence:\n",
        "   word_spacy_tokenize.append(word)\n",
        "word_spacy_tokenize"
      ],
      "metadata": {
        "colab": {
          "base_uri": "https://localhost:8080/"
        },
        "id": "rArAekiy-4X1",
        "outputId": "a8960785-7c84-4681-881c-df92c8d8cf52"
      },
      "execution_count": null,
      "outputs": [
        {
          "output_type": "execute_result",
          "data": {
            "text/plain": [
              "[India,\n",
              " is,\n",
              " the,\n",
              " largest,\n",
              " democratic,\n",
              " country,\n",
              " .,\n",
              " ,\n",
              " It,\n",
              " is,\n",
              " a,\n",
              " big,\n",
              " country,\n",
              " divided,\n",
              " into,\n",
              " 29,\n",
              " states,\n",
              " and,\n",
              " 7,\n",
              " union,\n",
              " territories,\n",
              " .,\n",
              " These,\n",
              " states,\n",
              " and,\n",
              " union,\n",
              " territories,\n",
              " have,\n",
              " been,\n",
              " created,\n",
              " so,\n",
              " that,\n",
              " the,\n",
              " government,\n",
              " can,\n",
              " run,\n",
              " the,\n",
              " country,\n",
              " more,\n",
              " easily,\n",
              " .,\n",
              " India,\n",
              " also,\n",
              " has,\n",
              " many,\n",
              " different,\n",
              " kinds,\n",
              " of,\n",
              " physical,\n",
              " features,\n",
              " in,\n",
              " different,\n",
              " parts,\n",
              " of,\n",
              " the,\n",
              " country,\n",
              " ,\n",
              " that,\n",
              " are,\n",
              " spread,\n",
              " over,\n",
              " its,\n",
              " states,\n",
              " and,\n",
              " union,\n",
              " territories,\n",
              " .,\n",
              " India,\n",
              " is,\n",
              " a,\n",
              " very,\n",
              " diverse,\n",
              " country,\n",
              " as,\n",
              " well,\n",
              " ,,\n",
              " which,\n",
              " means,\n",
              " that,\n",
              " the,\n",
              " people,\n",
              " around,\n",
              " the,\n",
              " country,\n",
              " are,\n",
              " different,\n",
              " in,\n",
              " many,\n",
              " ways,\n",
              " .,\n",
              " Even,\n",
              " though,\n",
              " India,\n",
              " is,\n",
              " such,\n",
              " a,\n",
              " diverse,\n",
              " place,\n",
              " ,,\n",
              " it,\n",
              " is,\n",
              " united,\n",
              " as,\n",
              " one,\n",
              " country,\n",
              " .]"
            ]
          },
          "metadata": {},
          "execution_count": 12
        }
      ]
    },
    {
      "cell_type": "code",
      "source": [
        "from gensim.utils import tokenize"
      ],
      "metadata": {
        "id": "3A1hIdOG-6rd"
      },
      "execution_count": null,
      "outputs": []
    },
    {
      "cell_type": "code",
      "source": [
        "list(tokenize(para))"
      ],
      "metadata": {
        "colab": {
          "base_uri": "https://localhost:8080/"
        },
        "id": "yyh2Bdj6-9xd",
        "outputId": "c2d64a4d-e48b-4343-ada1-b88bb19db005"
      },
      "execution_count": null,
      "outputs": [
        {
          "output_type": "execute_result",
          "data": {
            "text/plain": [
              "['India',\n",
              " 'is',\n",
              " 'the',\n",
              " 'largest',\n",
              " 'democratic',\n",
              " 'country',\n",
              " 'It',\n",
              " 'is',\n",
              " 'a',\n",
              " 'big',\n",
              " 'country',\n",
              " 'divided',\n",
              " 'into',\n",
              " 'states',\n",
              " 'and',\n",
              " 'union',\n",
              " 'territories',\n",
              " 'These',\n",
              " 'states',\n",
              " 'and',\n",
              " 'union',\n",
              " 'territories',\n",
              " 'have',\n",
              " 'been',\n",
              " 'created',\n",
              " 'so',\n",
              " 'that',\n",
              " 'the',\n",
              " 'government',\n",
              " 'can',\n",
              " 'run',\n",
              " 'the',\n",
              " 'country',\n",
              " 'more',\n",
              " 'easily',\n",
              " 'India',\n",
              " 'also',\n",
              " 'has',\n",
              " 'many',\n",
              " 'different',\n",
              " 'kinds',\n",
              " 'of',\n",
              " 'physical',\n",
              " 'features',\n",
              " 'in',\n",
              " 'different',\n",
              " 'parts',\n",
              " 'of',\n",
              " 'the',\n",
              " 'country',\n",
              " 'that',\n",
              " 'are',\n",
              " 'spread',\n",
              " 'over',\n",
              " 'its',\n",
              " 'states',\n",
              " 'and',\n",
              " 'union',\n",
              " 'territories',\n",
              " 'India',\n",
              " 'is',\n",
              " 'a',\n",
              " 'very',\n",
              " 'diverse',\n",
              " 'country',\n",
              " 'as',\n",
              " 'well',\n",
              " 'which',\n",
              " 'means',\n",
              " 'that',\n",
              " 'the',\n",
              " 'people',\n",
              " 'around',\n",
              " 'the',\n",
              " 'country',\n",
              " 'are',\n",
              " 'different',\n",
              " 'in',\n",
              " 'many',\n",
              " 'ways',\n",
              " 'Even',\n",
              " 'though',\n",
              " 'India',\n",
              " 'is',\n",
              " 'such',\n",
              " 'a',\n",
              " 'diverse',\n",
              " 'place',\n",
              " 'it',\n",
              " 'is',\n",
              " 'united',\n",
              " 'as',\n",
              " 'one',\n",
              " 'country']"
            ]
          },
          "metadata": {},
          "execution_count": 14
        }
      ]
    },
    {
      "cell_type": "code",
      "metadata": {
        "colab": {
          "base_uri": "https://localhost:8080/"
        },
        "id": "a03f8b61",
        "outputId": "41d5577f-81ea-4021-b606-bfc067749a5a"
      },
      "source": [
        "#Convert all words to lower case\n",
        "\n",
        "para_lower= para.lower()\n",
        "print(para_lower)"
      ],
      "execution_count": null,
      "outputs": [
        {
          "output_type": "stream",
          "name": "stdout",
          "text": [
            "india is the largest democratic country.\n",
            "it is a big country divided into 29 states and 7 union territories.these states and union territories have been created so that the government can run the country more easily. india also has many different kinds of physical features in different parts of the country\n",
            "that are spread over its states and union territories.india is a very diverse country as well, which means that the people around the country are different in many ways. even though india is such a diverse place, it is united as one country.\n"
          ]
        }
      ]
    },
    {
      "cell_type": "code",
      "source": [
        "#Convert all words to upper case\n",
        "\n",
        "para_upper= para.upper()\n",
        "print(para_upper)"
      ],
      "metadata": {
        "colab": {
          "base_uri": "https://localhost:8080/"
        },
        "id": "Z-IrwRIu_YMO",
        "outputId": "186127c4-59b2-43b2-e6f0-e095d1048989"
      },
      "execution_count": null,
      "outputs": [
        {
          "output_type": "stream",
          "name": "stdout",
          "text": [
            "INDIA IS THE LARGEST DEMOCRATIC COUNTRY.\n",
            "IT IS A BIG COUNTRY DIVIDED INTO 29 STATES AND 7 UNION TERRITORIES.THESE STATES AND UNION TERRITORIES HAVE BEEN CREATED SO THAT THE GOVERNMENT CAN RUN THE COUNTRY MORE EASILY. INDIA ALSO HAS MANY DIFFERENT KINDS OF PHYSICAL FEATURES IN DIFFERENT PARTS OF THE COUNTRY\n",
            "THAT ARE SPREAD OVER ITS STATES AND UNION TERRITORIES.INDIA IS A VERY DIVERSE COUNTRY AS WELL, WHICH MEANS THAT THE PEOPLE AROUND THE COUNTRY ARE DIFFERENT IN MANY WAYS. EVEN THOUGH INDIA IS SUCH A DIVERSE PLACE, IT IS UNITED AS ONE COUNTRY.\n"
          ]
        }
      ]
    },
    {
      "cell_type": "code",
      "source": [
        "nltk.download(\"stopwords\")"
      ],
      "metadata": {
        "colab": {
          "base_uri": "https://localhost:8080/"
        },
        "id": "AjnqrtKo_a1G",
        "outputId": "37f6f51a-7acd-48b2-8552-153c31068ea2"
      },
      "execution_count": null,
      "outputs": [
        {
          "output_type": "stream",
          "name": "stderr",
          "text": [
            "[nltk_data] Downloading package stopwords to /root/nltk_data...\n",
            "[nltk_data]   Unzipping corpora/stopwords.zip.\n"
          ]
        },
        {
          "output_type": "execute_result",
          "data": {
            "text/plain": [
              "True"
            ]
          },
          "metadata": {},
          "execution_count": 18
        }
      ]
    },
    {
      "cell_type": "code",
      "source": [
        "from nltk.corpus import stopwords"
      ],
      "metadata": {
        "id": "h477HkDV_nnu"
      },
      "execution_count": null,
      "outputs": []
    },
    {
      "cell_type": "code",
      "source": [
        "stopWords = set(stopwords.words('english'))\n",
        "print(stopWords)"
      ],
      "metadata": {
        "colab": {
          "base_uri": "https://localhost:8080/"
        },
        "id": "poOjsyJQ_pVe",
        "outputId": "0bee6c58-d12d-4b65-bc48-a76ccfa2d879"
      },
      "execution_count": null,
      "outputs": [
        {
          "output_type": "stream",
          "name": "stdout",
          "text": [
            "{'its', 'through', 'both', 'themselves', 'wouldn', 'under', \"you'd\", 'didn', 'mustn', 'myself', 'hers', 'to', 'ain', 'has', 'can', \"needn't\", 'then', 'with', 'too', 'o', 'herself', 'at', 'only', 's', \"we'll\", 'most', 'our', 'further', 'here', 'yours', 'd', 'other', 'over', 'should', 'while', 'her', 'during', 'a', 'hasn', 'is', 'from', 'out', 'of', 'they', \"that'll\", 'am', 'when', 'who', 'the', 'which', 'what', 'how', 'now', 'she', 'doesn', 'm', 'than', \"they're\", 'them', 'up', 'will', 'i', 'whom', 'same', \"shan't\", 'we', 'needn', 'few', \"wouldn't\", 'were', 'you', 'mightn', 'him', 'more', 'that', 'had', 'these', 'in', \"mightn't\", \"it'd\", \"they'd\", 't', 'ours', 'very', \"he's\", \"couldn't\", 'again', \"they'll\", 'haven', 'their', 'an', 'not', \"i'm\", 'do', 'was', 'weren', 'own', 'having', 'shan', 'once', \"hasn't\", 'me', \"you've\", 'as', \"he'd\", 'shouldn', 'doing', \"don't\", 'into', 'll', \"he'll\", 'are', 'just', 'ma', 'it', \"she's\", 'why', 'after', 'itself', \"haven't\", 'about', 'aren', 'all', 'those', 'theirs', \"should've\", \"isn't\", 'this', 'did', \"it'll\", 'until', \"weren't\", 'because', \"wasn't\", \"they've\", 'y', 'does', 'couldn', 'or', 'yourself', 'don', \"i'll\", 'and', 'there', \"didn't\", \"shouldn't\", \"we'd\", \"she'll\", 'down', \"you're\", 'for', 'his', 'be', 'isn', \"it's\", 'ourselves', \"you'll\", 'against', \"i'd\", \"we're\", 'hadn', 'have', 'my', \"she'd\", \"we've\", 'but', 'so', 'below', \"aren't\", 've', 're', 'wasn', 'won', 'being', 'himself', 'some', 'your', \"mustn't\", 'no', \"hadn't\", 'each', 'by', 'above', 'between', 'on', 'where', 'been', 'if', \"i've\", \"won't\", 'any', 'before', 'off', 'such', \"doesn't\", 'yourselves', 'he', 'nor'}\n"
          ]
        }
      ]
    },
    {
      "cell_type": "code",
      "source": [
        "word_filtered=[]\n",
        "para_lower_tokenize=word_tokenize(para_lower)\n",
        "\n",
        "for word in para_lower_tokenize:\n",
        "    if word not in stopWords:\n",
        "        word_filtered.append(word)\n",
        "print(word_filtered)"
      ],
      "metadata": {
        "colab": {
          "base_uri": "https://localhost:8080/"
        },
        "id": "0Cxx8vux_qyu",
        "outputId": "ee4efaf4-f249-45af-ddd8-bed8d46e17a2"
      },
      "execution_count": null,
      "outputs": [
        {
          "output_type": "stream",
          "name": "stdout",
          "text": [
            "['india', 'largest', 'democratic', 'country', '.', 'big', 'country', 'divided', '29', 'states', '7', 'union', 'territories.these', 'states', 'union', 'territories', 'created', 'government', 'run', 'country', 'easily', '.', 'india', 'also', 'many', 'different', 'kinds', 'physical', 'features', 'different', 'parts', 'country', 'spread', 'states', 'union', 'territories.india', 'diverse', 'country', 'well', ',', 'means', 'people', 'around', 'country', 'different', 'many', 'ways', '.', 'even', 'though', 'india', 'diverse', 'place', ',', 'united', 'one', 'country', '.']\n"
          ]
        }
      ]
    },
    {
      "cell_type": "code",
      "source": [
        "print(\"length before and after stop word removal is: {} and {} respectively\".format(len(para_lower_tokenize), len(word_filtered)))"
      ],
      "metadata": {
        "colab": {
          "base_uri": "https://localhost:8080/"
        },
        "id": "sBR91sq7_s_W",
        "outputId": "1e8dabb9-af9b-4c6e-d8c0-746711f5123a"
      },
      "execution_count": null,
      "outputs": [
        {
          "output_type": "stream",
          "name": "stdout",
          "text": [
            "length before and after stop word removal is: 100 and 58 respectively\n"
          ]
        }
      ]
    },
    {
      "cell_type": "code",
      "source": [
        "from nltk.stem import PorterStemmer"
      ],
      "metadata": {
        "id": "xSCSn4EP_vy2"
      },
      "execution_count": null,
      "outputs": []
    },
    {
      "cell_type": "code",
      "source": [
        "words= [\"wait\", \"waiting\", \"waited\", \"waits\", \"listening\", \"history\", \"abitlity\", \"arrival\", \"finally\", \"congratulations\", \\\n",
        "       \"exaggeration\", \"understandable\", \"probability\", \"player\",\"toys\", \"consumer\", \"fairly\"]\n",
        "porter =PorterStemmer()\n",
        "for word in words:\n",
        "    rootWord=porter.stem(word)\n",
        "    print(word,\" : \",rootWord)"
      ],
      "metadata": {
        "colab": {
          "base_uri": "https://localhost:8080/"
        },
        "id": "wlet-j2n_yA-",
        "outputId": "dda52e0d-b08d-4395-e69f-2f2e282cd075"
      },
      "execution_count": null,
      "outputs": [
        {
          "output_type": "stream",
          "name": "stdout",
          "text": [
            "wait  :  wait\n",
            "waiting  :  wait\n",
            "waited  :  wait\n",
            "waits  :  wait\n",
            "listening  :  listen\n",
            "history  :  histori\n",
            "abitlity  :  abitl\n",
            "arrival  :  arriv\n",
            "finally  :  final\n",
            "congratulations  :  congratul\n",
            "exaggeration  :  exagger\n",
            "understandable  :  understand\n",
            "probability  :  probabl\n",
            "player  :  player\n",
            "toys  :  toy\n",
            "consumer  :  consum\n",
            "fairly  :  fairli\n"
          ]
        }
      ]
    },
    {
      "cell_type": "code",
      "source": [
        "from nltk.stem import LancasterStemmer"
      ],
      "metadata": {
        "id": "ry_uJcHg_zqn"
      },
      "execution_count": null,
      "outputs": []
    },
    {
      "cell_type": "code",
      "source": [
        "lancaster =LancasterStemmer()\n",
        "for word in words:\n",
        "    rootWord=lancaster.stem(word)\n",
        "    print(word,\" : \",rootWord)"
      ],
      "metadata": {
        "colab": {
          "base_uri": "https://localhost:8080/"
        },
        "id": "XNCvFVc6_1CH",
        "outputId": "ba8f4ce9-82a5-4c7a-9f3b-154386801fde"
      },
      "execution_count": null,
      "outputs": [
        {
          "output_type": "stream",
          "name": "stdout",
          "text": [
            "wait  :  wait\n",
            "waiting  :  wait\n",
            "waited  :  wait\n",
            "waits  :  wait\n",
            "listening  :  list\n",
            "history  :  hist\n",
            "abitlity  :  abitl\n",
            "arrival  :  ar\n",
            "finally  :  fin\n",
            "congratulations  :  congrat\n",
            "exaggeration  :  exag\n",
            "understandable  :  understand\n",
            "probability  :  prob\n",
            "player  :  play\n",
            "toys  :  toy\n",
            "consumer  :  consum\n",
            "fairly  :  fair\n"
          ]
        }
      ]
    },
    {
      "cell_type": "code",
      "source": [
        "from nltk.stem import RegexpStemmer"
      ],
      "metadata": {
        "id": "DxsyTuGl_2WG"
      },
      "execution_count": null,
      "outputs": []
    },
    {
      "cell_type": "code",
      "source": [
        "regex =RegexpStemmer(\"ing$|es$|s$|er$|able$\")\n",
        "\n",
        "for word in words:\n",
        "    rootWord=regex.stem(word)\n",
        "    print(word,\" : \",rootWord)"
      ],
      "metadata": {
        "colab": {
          "base_uri": "https://localhost:8080/"
        },
        "id": "8G18MNIm_7Tv",
        "outputId": "3896d059-2704-473c-99de-4f168a9fb156"
      },
      "execution_count": null,
      "outputs": [
        {
          "output_type": "stream",
          "name": "stdout",
          "text": [
            "wait  :  wait\n",
            "waiting  :  wait\n",
            "waited  :  waited\n",
            "waits  :  wait\n",
            "listening  :  listen\n",
            "history  :  history\n",
            "abitlity  :  abitlity\n",
            "arrival  :  arrival\n",
            "finally  :  finally\n",
            "congratulations  :  congratulation\n",
            "exaggeration  :  exaggeration\n",
            "understandable  :  understand\n",
            "probability  :  probability\n",
            "player  :  play\n",
            "toys  :  toy\n",
            "consumer  :  consum\n",
            "fairly  :  fairly\n"
          ]
        }
      ]
    },
    {
      "cell_type": "code",
      "source": [
        "\n",
        "from nltk.stem import SnowballStemmer"
      ],
      "metadata": {
        "id": "diwoz943_822"
      },
      "execution_count": null,
      "outputs": []
    },
    {
      "cell_type": "code",
      "source": [
        "\n",
        "snow =SnowballStemmer(language=\"english\")\n",
        "\n",
        "for word in words:\n",
        "    rootWord=snow.stem(word)\n",
        "    print(word,\" : \",rootWord)"
      ],
      "metadata": {
        "colab": {
          "base_uri": "https://localhost:8080/"
        },
        "id": "dO4NFpmW_-Su",
        "outputId": "e09bcf4c-2508-4fd4-b589-68f757a1f25b"
      },
      "execution_count": null,
      "outputs": [
        {
          "output_type": "stream",
          "name": "stdout",
          "text": [
            "wait  :  wait\n",
            "waiting  :  wait\n",
            "waited  :  wait\n",
            "waits  :  wait\n",
            "listening  :  listen\n",
            "history  :  histori\n",
            "abitlity  :  abitl\n",
            "arrival  :  arriv\n",
            "finally  :  final\n",
            "congratulations  :  congratul\n",
            "exaggeration  :  exagger\n",
            "understandable  :  understand\n",
            "probability  :  probabl\n",
            "player  :  player\n",
            "toys  :  toy\n",
            "consumer  :  consum\n",
            "fairly  :  fair\n"
          ]
        }
      ]
    },
    {
      "cell_type": "code",
      "source": [
        "# # Download Wordnet through NLTK in python console:\n",
        "import nltk\n",
        "nltk.download('wordnet')\n",
        "from nltk.stem import WordNetLemmatizer\n",
        "from nltk import sent_tokenize, word_tokenize\n",
        "from nltk.corpus import wordnet\n",
        "nltk.download('averaged_perceptron_tagger')"
      ],
      "metadata": {
        "colab": {
          "base_uri": "https://localhost:8080/"
        },
        "id": "bsrBd7TS__tu",
        "outputId": "3dd2c1ad-1a8a-4efb-da53-136756db91e7"
      },
      "execution_count": null,
      "outputs": [
        {
          "output_type": "stream",
          "name": "stderr",
          "text": [
            "[nltk_data] Downloading package wordnet to /root/nltk_data...\n",
            "[nltk_data] Downloading package averaged_perceptron_tagger to\n",
            "[nltk_data]     /root/nltk_data...\n",
            "[nltk_data]   Unzipping taggers/averaged_perceptron_tagger.zip.\n"
          ]
        },
        {
          "output_type": "execute_result",
          "data": {
            "text/plain": [
              "True"
            ]
          },
          "metadata": {},
          "execution_count": 31
        }
      ]
    },
    {
      "cell_type": "code",
      "source": [
        "\n",
        "lemmatizer= WordNetLemmatizer()\n",
        "words= [\"wait\", \"waiting\", \"waited\", \"waits\", \"listening\", \"history\", \"abitlity\", \"arrival\", \"finally\", \"congratulations\", \\\n",
        "       \"exaggeration\", \"understandable\", \"probability\", \"player\",\"toys\", \"consumer\", \"fairly\"]\n",
        "for word in words:\n",
        "    print(\"{}: {}\".format(word, lemmatizer.lemmatize(word)))"
      ],
      "metadata": {
        "colab": {
          "base_uri": "https://localhost:8080/"
        },
        "id": "EnTth8FWABb-",
        "outputId": "d9e8cc68-b5c7-4e4c-c3a9-840fd44c64fa"
      },
      "execution_count": null,
      "outputs": [
        {
          "output_type": "stream",
          "name": "stdout",
          "text": [
            "wait: wait\n",
            "waiting: waiting\n",
            "waited: waited\n",
            "waits: wait\n",
            "listening: listening\n",
            "history: history\n",
            "abitlity: abitlity\n",
            "arrival: arrival\n",
            "finally: finally\n",
            "congratulations: congratulation\n",
            "exaggeration: exaggeration\n",
            "understandable: understandable\n",
            "probability: probability\n",
            "player: player\n",
            "toys: toy\n",
            "consumer: consumer\n",
            "fairly: fairly\n"
          ]
        }
      ]
    },
    {
      "cell_type": "code",
      "source": [
        "\n",
        "sentence=\"The students are waiting outside the class room\"\n",
        "#Tokenizing the sentence\n",
        "word_tokens= word_tokenize(sentence)\n",
        "print(word_tokens)"
      ],
      "metadata": {
        "colab": {
          "base_uri": "https://localhost:8080/"
        },
        "id": "MuUeZpNDADz2",
        "outputId": "b73ab374-ab43-4d40-f8c8-934b1d783e76"
      },
      "execution_count": null,
      "outputs": [
        {
          "output_type": "stream",
          "name": "stdout",
          "text": [
            "['The', 'students', 'are', 'waiting', 'outside', 'the', 'class', 'room']\n"
          ]
        }
      ]
    },
    {
      "cell_type": "code",
      "source": [
        "#Lemmatizing the tokens\n",
        "lemmatized=[]\n",
        "for token in word_tokens:\n",
        "    lemmatized.append(lemmatizer.lemmatize(token))\n",
        "print(lemmatized)"
      ],
      "metadata": {
        "colab": {
          "base_uri": "https://localhost:8080/"
        },
        "id": "7EgNEkLFAGSf",
        "outputId": "c2b7b715-8a73-4ca1-d591-f9b94b861654"
      },
      "execution_count": null,
      "outputs": [
        {
          "output_type": "stream",
          "name": "stdout",
          "text": [
            "['The', 'student', 'are', 'waiting', 'outside', 'the', 'class', 'room']\n"
          ]
        }
      ]
    },
    {
      "cell_type": "code",
      "source": [
        "#Joining the lemmatized words\n",
        "lemmatized_sent= \" \".join(lemmatized)\n",
        "print(lemmatized_sent)"
      ],
      "metadata": {
        "colab": {
          "base_uri": "https://localhost:8080/"
        },
        "id": "yi6EseZGAItH",
        "outputId": "5842c1ba-6cb4-431d-c6c9-adea7b14f9f7"
      },
      "execution_count": null,
      "outputs": [
        {
          "output_type": "stream",
          "name": "stdout",
          "text": [
            "The student are waiting outside the class room\n"
          ]
        }
      ]
    },
    {
      "cell_type": "code",
      "source": [
        "print(lemmatizer.lemmatize(\"waiting\", 'v'))\n",
        "print(lemmatizer.lemmatize(\"are\", 'v'))"
      ],
      "metadata": {
        "colab": {
          "base_uri": "https://localhost:8080/"
        },
        "id": "3f5cBgGfAKMm",
        "outputId": "1df1be77-7a7f-4317-eb2f-d340cee241ed"
      },
      "execution_count": null,
      "outputs": [
        {
          "output_type": "stream",
          "name": "stdout",
          "text": [
            "wait\n",
            "be\n"
          ]
        }
      ]
    },
    {
      "cell_type": "code",
      "source": [
        "print(nltk.pos_tag([\"waiting\"]))"
      ],
      "metadata": {
        "colab": {
          "base_uri": "https://localhost:8080/"
        },
        "id": "AwQlOXhJAMIm",
        "outputId": "52ef0293-59b9-4113-d0ff-4ee04cce3545"
      },
      "execution_count": null,
      "outputs": [
        {
          "output_type": "stream",
          "name": "stderr",
          "text": [
            "[nltk_data] Downloading package wordnet to /root/nltk_data...\n",
            "[nltk_data]   Package wordnet is already up-to-date!\n",
            "[nltk_data] Downloading package averaged_perceptron_tagger_eng to\n",
            "[nltk_data]     /root/nltk_data...\n",
            "[nltk_data]   Unzipping taggers/averaged_perceptron_tagger_eng.zip.\n"
          ]
        },
        {
          "output_type": "stream",
          "name": "stdout",
          "text": [
            "[('waiting', 'VBG')]\n"
          ]
        }
      ]
    },
    {
      "cell_type": "code",
      "source": [
        "\n",
        "sentence=\"The students are waiting outside the class room\"\n",
        "word_tokens= word_tokenize(sentence)\n",
        "print(nltk.pos_tag(word_tokens))"
      ],
      "metadata": {
        "colab": {
          "base_uri": "https://localhost:8080/"
        },
        "id": "Y2MFzZbsARRP",
        "outputId": "c9006708-6a72-456e-e149-065211bb37c2"
      },
      "execution_count": null,
      "outputs": [
        {
          "output_type": "stream",
          "name": "stdout",
          "text": [
            "[('The', 'DT'), ('students', 'NNS'), ('are', 'VBP'), ('waiting', 'VBG'), ('outside', 'IN'), ('the', 'DT'), ('class', 'NN'), ('room', 'NN')]\n"
          ]
        }
      ]
    },
    {
      "cell_type": "code",
      "metadata": {
        "colab": {
          "base_uri": "https://localhost:8080/"
        },
        "id": "2de7635b",
        "outputId": "2313137a-f0b3-4cdc-b789-c1aaaf9a3914"
      },
      "source": [
        "import nltk\n",
        "nltk.download('averaged_perceptron_tagger')"
      ],
      "execution_count": null,
      "outputs": [
        {
          "output_type": "stream",
          "name": "stderr",
          "text": [
            "[nltk_data] Downloading package averaged_perceptron_tagger to\n",
            "[nltk_data]     /root/nltk_data...\n",
            "[nltk_data]   Package averaged_perceptron_tagger is already up-to-\n",
            "[nltk_data]       date!\n"
          ]
        },
        {
          "output_type": "execute_result",
          "data": {
            "text/plain": [
              "True"
            ]
          },
          "metadata": {},
          "execution_count": 43
        }
      ]
    },
    {
      "cell_type": "code",
      "source": [
        "print(lemmatizer.lemmatize(\"are\", get_wordnet_pos(\"are\")))"
      ],
      "metadata": {
        "colab": {
          "base_uri": "https://localhost:8080/"
        },
        "id": "JavpVt8_BIiP",
        "outputId": "6574cb57-6553-48ea-bcc4-1637ec1d5b38"
      },
      "execution_count": null,
      "outputs": [
        {
          "output_type": "stream",
          "name": "stdout",
          "text": [
            "are\n"
          ]
        }
      ]
    },
    {
      "cell_type": "code",
      "source": [
        "nltk.pos_tag([\"waiting\"])[0][1][0]"
      ],
      "metadata": {
        "colab": {
          "base_uri": "https://localhost:8080/",
          "height": 35
        },
        "id": "LC25i9zUBKOX",
        "outputId": "a9d49a21-dd26-4a81-c977-69d0c8f0ffbd"
      },
      "execution_count": null,
      "outputs": [
        {
          "output_type": "execute_result",
          "data": {
            "text/plain": [
              "'V'"
            ],
            "application/vnd.google.colaboratory.intrinsic+json": {
              "type": "string"
            }
          },
          "metadata": {},
          "execution_count": 47
        }
      ]
    },
    {
      "cell_type": "code",
      "metadata": {
        "id": "8a00a23b"
      },
      "source": [
        "from nltk.corpus import wordnet\n",
        "\n",
        "def get_wordnet_pos(tag):\n",
        "    \"\"\"Map NLTK POS tags to WordNet tags\"\"\"\n",
        "    if tag.startswith('J'):\n",
        "        return wordnet.ADJ\n",
        "    elif tag.startswith('V'):\n",
        "        return wordnet.VERB\n",
        "    elif tag.startswith('N'):\n",
        "        return wordnet.NOUN\n",
        "    elif tag.startswith('R'):\n",
        "        return wordnet.ADV\n",
        "    else:\n",
        "        return wordnet.NOUN # Default to noun if no specific mapping is found"
      ],
      "execution_count": null,
      "outputs": []
    },
    {
      "cell_type": "code",
      "source": [
        "def pos_tagger(word):\n",
        "    nltk_tag = nltk.pos_tag([word])[0][1][0]\n",
        "    if nltk_tag.startswith('J'):\n",
        "        return wordnet.ADJ\n",
        "    elif nltk_tag.startswith('V'):\n",
        "        return wordnet.VERB\n",
        "    elif nltk_tag.startswith('N'):\n",
        "        return wordnet.NOUN\n",
        "    elif nltk_tag.startswith('R'):\n",
        "        return wordnet.ADV\n",
        "    else:\n",
        "        return None"
      ],
      "metadata": {
        "id": "0GDlxuJ_BP2O"
      },
      "execution_count": null,
      "outputs": []
    },
    {
      "cell_type": "code",
      "source": [
        "wordnet.ADJ"
      ],
      "metadata": {
        "colab": {
          "base_uri": "https://localhost:8080/",
          "height": 35
        },
        "id": "uS_P6lP1BWqH",
        "outputId": "57958a89-36a1-4bae-d864-7386b4c74231"
      },
      "execution_count": null,
      "outputs": [
        {
          "output_type": "execute_result",
          "data": {
            "text/plain": [
              "'a'"
            ],
            "application/vnd.google.colaboratory.intrinsic+json": {
              "type": "string"
            }
          },
          "metadata": {},
          "execution_count": 49
        }
      ]
    },
    {
      "cell_type": "code",
      "source": [
        "pos_tagger(\"are\")"
      ],
      "metadata": {
        "colab": {
          "base_uri": "https://localhost:8080/",
          "height": 35
        },
        "id": "93PtnhckBcbv",
        "outputId": "187a5831-c508-4b27-c9a3-a49145604260"
      },
      "execution_count": null,
      "outputs": [
        {
          "output_type": "execute_result",
          "data": {
            "text/plain": [
              "'v'"
            ],
            "application/vnd.google.colaboratory.intrinsic+json": {
              "type": "string"
            }
          },
          "metadata": {},
          "execution_count": 50
        }
      ]
    },
    {
      "cell_type": "code",
      "source": [
        "\n",
        "print(lemmatizer.lemmatize(\"waiting\",pos_tagger(\"waiting\")))"
      ],
      "metadata": {
        "colab": {
          "base_uri": "https://localhost:8080/"
        },
        "id": "wk8Dz1AyBm2w",
        "outputId": "27c0ac05-6540-4dd9-8a76-9e62b6c97e5d"
      },
      "execution_count": null,
      "outputs": [
        {
          "output_type": "stream",
          "name": "stdout",
          "text": [
            "wait\n"
          ]
        }
      ]
    },
    {
      "cell_type": "code",
      "source": [
        "sentence=\"The students are waiting outside the class room eagerly\"\n",
        "word_tokens= word_tokenize(sentence)\n",
        "lemmatized=[]\n",
        "for token in word_tokens:\n",
        "    tag= pos_tagger(token)\n",
        "    if tag==None:\n",
        "        lemmatized.append(lemmatizer.lemmatize(token))\n",
        "    else:\n",
        "        lemmatized.append(lemmatizer.lemmatize(token,tag))\n",
        "\n",
        "\n",
        "print(lemmatized)"
      ],
      "metadata": {
        "colab": {
          "base_uri": "https://localhost:8080/"
        },
        "id": "Tz113ZwBBouo",
        "outputId": "236ec8d3-0722-4e84-f423-9b68f210c2a3"
      },
      "execution_count": null,
      "outputs": [
        {
          "output_type": "stream",
          "name": "stdout",
          "text": [
            "['The', 'student', 'be', 'wait', 'outside', 'the', 'class', 'room', 'eagerly']\n"
          ]
        }
      ]
    },
    {
      "cell_type": "code",
      "source": [
        "\n",
        "nltk.pos_tag([\"eagerly\"])"
      ],
      "metadata": {
        "colab": {
          "base_uri": "https://localhost:8080/"
        },
        "id": "0sgOlUgeBseA",
        "outputId": "db4ba515-10ce-4a45-a098-a6d9bdf4ed56"
      },
      "execution_count": null,
      "outputs": [
        {
          "output_type": "execute_result",
          "data": {
            "text/plain": [
              "[('eagerly', 'RB')]"
            ]
          },
          "metadata": {},
          "execution_count": 53
        }
      ]
    },
    {
      "cell_type": "code",
      "source": [
        "pos_tagger(\"eagerly\")"
      ],
      "metadata": {
        "colab": {
          "base_uri": "https://localhost:8080/",
          "height": 35
        },
        "id": "xPUPgdPGBuQA",
        "outputId": "035c11e4-b251-4b78-8d48-570e80b02a8e"
      },
      "execution_count": null,
      "outputs": [
        {
          "output_type": "execute_result",
          "data": {
            "text/plain": [
              "'r'"
            ],
            "application/vnd.google.colaboratory.intrinsic+json": {
              "type": "string"
            }
          },
          "metadata": {},
          "execution_count": 54
        }
      ]
    },
    {
      "cell_type": "code",
      "source": [
        "lemmatizer.lemmatize(\"nicely\",\"r\")"
      ],
      "metadata": {
        "colab": {
          "base_uri": "https://localhost:8080/",
          "height": 35
        },
        "id": "ZynHQd-qBw3A",
        "outputId": "6bc12041-4413-4a15-b15e-8c66720ae350"
      },
      "execution_count": null,
      "outputs": [
        {
          "output_type": "execute_result",
          "data": {
            "text/plain": [
              "'nicely'"
            ],
            "application/vnd.google.colaboratory.intrinsic+json": {
              "type": "string"
            }
          },
          "metadata": {},
          "execution_count": 55
        }
      ]
    },
    {
      "cell_type": "code",
      "source": [
        "\n",
        "from nltk.corpus import wordnet as wn\n",
        "wn.synset('angrily.r.1').lemmas()[0].pertainyms()[0].name()"
      ],
      "metadata": {
        "colab": {
          "base_uri": "https://localhost:8080/",
          "height": 35
        },
        "id": "ohTQYfj7Bz3Q",
        "outputId": "0ed495cc-b5b6-44be-944e-a9884d57180c"
      },
      "execution_count": null,
      "outputs": [
        {
          "output_type": "execute_result",
          "data": {
            "text/plain": [
              "'angry'"
            ],
            "application/vnd.google.colaboratory.intrinsic+json": {
              "type": "string"
            }
          },
          "metadata": {},
          "execution_count": 56
        }
      ]
    },
    {
      "cell_type": "code",
      "source": [
        "wn.synset('eagerly.r.1').lemmas()[0].pertainyms()[0].name()"
      ],
      "metadata": {
        "colab": {
          "base_uri": "https://localhost:8080/",
          "height": 35
        },
        "id": "THlrGQp8B2rI",
        "outputId": "e8f8df1e-cdd4-45ff-eddc-600aee10e6ab"
      },
      "execution_count": null,
      "outputs": [
        {
          "output_type": "execute_result",
          "data": {
            "text/plain": [
              "'eager'"
            ],
            "application/vnd.google.colaboratory.intrinsic+json": {
              "type": "string"
            }
          },
          "metadata": {},
          "execution_count": 57
        }
      ]
    },
    {
      "cell_type": "code",
      "source": [
        "sentence=\"The students are waiting outside the class room eagerly\"\n",
        "word_tokens= word_tokenize(sentence)\n",
        "lemmatized=[]\n",
        "for token in word_tokens:\n",
        "    tag= pos_tagger(token)\n",
        "    if tag==None:\n",
        "        lemmatized.append(lemmatizer.lemmatize(token))\n",
        "    elif tag==\"r\":\n",
        "        lemmatized.append(wn.synset('{}.r.1'.format(token)).lemmas()[0].pertainyms()[0].name())\n",
        "\n",
        "    else:\n",
        "        lemmatized.append(lemmatizer.lemmatize(token,tag))\n",
        "\n",
        "\n",
        "print(lemmatized)"
      ],
      "metadata": {
        "colab": {
          "base_uri": "https://localhost:8080/"
        },
        "id": "dc8iiCDZB5rA",
        "outputId": "582f7c0a-0a9e-4a5f-c847-ff7d11aa89a7"
      },
      "execution_count": null,
      "outputs": [
        {
          "output_type": "stream",
          "name": "stdout",
          "text": [
            "['The', 'student', 'be', 'wait', 'outside', 'the', 'class', 'room', 'eager']\n"
          ]
        }
      ]
    },
    {
      "cell_type": "code",
      "source": [],
      "metadata": {
        "id": "v3DO6ym6B7PA"
      },
      "execution_count": null,
      "outputs": []
    }
  ]
}